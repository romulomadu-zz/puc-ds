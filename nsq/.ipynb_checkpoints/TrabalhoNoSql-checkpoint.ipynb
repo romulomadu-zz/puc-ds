{
 "cells": [
  {
   "cell_type": "code",
   "execution_count": null,
   "metadata": {},
   "outputs": [],
   "source": [
    "import string\n",
    "import pandas as pd\n",
    "from pymongo import MongoClient\n",
    "import json\n",
    "import funcModule"
   ]
  },
  {
   "cell_type": "code",
   "execution_count": null,
   "metadata": {},
   "outputs": [],
   "source": [
    "#test\n",
    "#df = pd.DataFrame(putSentiment(countWords('intro.txt'))).T.reset_index()\n",
    "#df.columns =['words','count','sentiment']\n",
    "#df.dropna()"
   ]
  },
  {
   "cell_type": "code",
   "execution_count": null,
   "metadata": {},
   "outputs": [],
   "source": [
    "data=[{\"favorited\": False, \"contributors\": None, \"truncated\": False, \"text\": \"#CFP Workshop on Noisy User-generated Text at ACL - Beijing 31 July 2015. Papers due: 11 May 2015. http://t.co/rcygyEowqH   #NLProc #WNUT15\", \"possibly_sensitive\": False, \"in_reply_to_status_id\": None, \"user\": {\"follow_request_sent\": None, \"profile_use_background_image\": True, \"default_profile_image\": False, \"id\": 237918251, \"verified\": False, \"profile_image_url_https\": \"https://pbs.twimg.com/profile_images/527088456967544832/DnclpoZO_normal.jpeg\", \"profile_sidebar_fill_color\": \"DDEEF6\", \"profile_text_color\": \"333333\", \"followers_count\": 226, \"profile_sidebar_border_color\": \"C0DEED\", \"id_str\": \"237918251\", \"profile_background_color\": \"C0DEED\", \"listed_count\": 13, \"profile_background_image_url_https\": \"https://abs.twimg.com/images/themes/theme1/bg.png\", \"utc_offset\": None, \"statuses_count\": 120, \"description\": \"I am a postdoctoral researcher @PennCIS, studying Natural Language Processing and Social Media.\", \"friends_count\": 166, \"location\": \"Philadelphia PA\", \"profile_link_color\": \"0084B4\", \"profile_image_url\": \"http://pbs.twimg.com/profile_images/527088456967544832/DnclpoZO_normal.jpeg\", \"following\": None, \"geo_enabled\": True, \"profile_background_image_url\": \"http://abs.twimg.com/images/themes/theme1/bg.png\", \"name\": \"Wei Xu\", \"lang\": \"en\", \"profile_background_tile\": False, \"favourites_count\": 88, \"screen_name\": \"cocoweixu\", \"notifications\": None, \"url\": \"http://www.cis.upenn.edu/~xwe/\", \"created_at\": \"Thu Jan 13 23:15:12 +0000 2011\", \"contributors_enabled\": False, \"time_zone\": None, \"protected\": False, \"default_profile\": True, \"is_translator\": False}, \"filter_level\": \"low\", \"geo\": None, \"id\": 616333141884674048, \"favorite_count\": 0, \"lang\": \"en\", \"entities\": {\"user_mentions\": [], \"symbols\": [], \"trends\": [], \"hashtags\": [{\"indices\": [0, 4], \"text\": \"CFP\"}, {\"indices\": [124, 131], \"text\": \"NLProc\"}, {\"indices\": [132, 139], \"text\": \"WNUT15\"}], \"urls\": [{\"url\": \"http://t.co/rcygyEowqH\", \"indices\": [99, 121], \"expanded_url\": \"http://noisy-text.github.io\", \"display_url\": \"noisy-text.github.io\"}]}, \"in_reply_to_user_id_str\": None, \"retweeted\": False, \"coordinates\": None, \"timestamp_ms\": \"1435780246598\", \"source\": \"<a href=\\\"http://twitter.com\\\" rel=\\\"nofollow\\\">Twitter Web Client</a>\", \"in_reply_to_status_id_str\": None, \"in_reply_to_screen_name\": None, \"id_str\": \"616333141884674048\", \"place\": None, \"retweet_count\": 0, \"created_at\": \"Wed Jul 01 19:50:46 +0000 2015\", \"in_reply_to_user_id\": None}]\n",
    "data= [{'nome':'Rômulo'},{'nome':'Julia'}]"
   ]
  },
  {
   "cell_type": "code",
   "execution_count": null,
   "metadata": {},
   "outputs": [],
   "source": [
    "putOnMongo(data)"
   ]
  }
 ],
 "metadata": {
  "kernelspec": {
   "display_name": "Python 3",
   "language": "python",
   "name": "python3"
  },
  "language_info": {
   "codemirror_mode": {
    "name": "ipython",
    "version": 3
   },
   "file_extension": ".py",
   "mimetype": "text/x-python",
   "name": "python",
   "nbconvert_exporter": "python",
   "pygments_lexer": "ipython3"
  }
 },
 "nbformat": 4,
 "nbformat_minor": 2
}
